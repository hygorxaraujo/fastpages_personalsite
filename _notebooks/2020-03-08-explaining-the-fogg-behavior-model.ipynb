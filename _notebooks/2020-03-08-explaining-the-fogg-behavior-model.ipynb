{
 "cells": [
  {
   "cell_type": "markdown",
   "source": [
    "# \"Explaining the Fogg Behavior Model\"\n",
    "> \"In this post, I would like to explain the Fogg Behavior Model, created by Brian Jeffrey Fogg (B. J. Fogg).\"\n",
    "\n",
    "- toc: true\n",
    "- branch: master\n",
    "- badges: false\n",
    "- hide: false\n",
    "- search_exclude: false\n",
    "- comments: true\n",
    "- author: Hygor X. Araújo\n",
    "- categories: [productivity, python, matplotlib]"
   ],
   "metadata": {
    "collapsed": false
   }
  },
  {
   "cell_type": "markdown",
   "source": [
    "In this post, I would like to explain the Fogg Behavior Model, created by Brian Jeffrey Fogg (B. J.\n",
    " Fogg).\n",
    "<!-- TEASER_END -->\n",
    "\n",
    "According to B. J. Fogg's research, Behavior ($B$) happens at the intersection of three things:\n",
    "our Motivation ($M$), our Ability ($A$), and the Prompt ($P$) to the behavior.\n",
    "\n",
    "$B = MAP$\n",
    "\n",
    "We can visualize the relationship between motivation, ability and the prompt in a two-dimensional\n",
    "graphic.\n",
    "\n",
    "I plotted the graphic below using Python and the NumPy and Matplotlib packages.\n",
    "I kept the code for anyone who is interested in how to do it."
   ],
   "metadata": {
    "collapsed": false
   }
  },
  {
   "cell_type": "code",
   "execution_count": 1,
   "outputs": [
    {
     "data": {
      "text/plain": "<Figure size 432x288 with 1 Axes>",
      "image/png": "[encoded data removed]"
     },
     "metadata": {
      "needs_background": "light"
     },
     "output_type": "display_data"
    }
   ],
   "source": [
    "import matplotlib.pyplot as plt\n",
    "import numpy as np\n",
    "\n",
    "text = { # text dict for easier translation\n",
    "    'ability':'Ability',\n",
    "    'motivation':'Motivation',\n",
    "    'title':'Fogg Behavior Model',\n",
    "    'bmap':'B = MAP',\n",
    "    'bmap_sub':'At the same\\nmoment',\n",
    "    'ability_axis':('Hard to Do', 'Easy to Do'),\n",
    "    'motivation_axis':('High', 'Low'),\n",
    "    'action_line':'Action Line',\n",
    "    'prompts':'Prompts',\n",
    "    'prompts_succeed':'succeed here',\n",
    "    'prompts_fail':'fail here',\n",
    "}\n",
    "\n",
    "blue_color = '#06abe1'\n",
    "green_color = '#81a050'\n",
    "light_green_color = '#d2e5c9'\n",
    "red_color = '#ff2222'\n",
    "light_red_color = '#ffcbcb'\n",
    "\n",
    "# Data for plotting\n",
    "x = np.arange(0.0, 1.1, 0.01)\n",
    "# y = 1.05 - sqrt(1 - (x - 1.05) ** 2)\n",
    "y = 1.05 - np.sqrt([np.max((xi, 0)) for xi in 1 - (x - 1.05) ** 2])\n",
    "\n",
    "fig, ax = plt.subplots()\n",
    "ax.plot(x, y, color=green_color)\n",
    "ax.set(xlabel=text['ability'],\n",
    "       ylabel=text['motivation'],\n",
    "       title=text['title'])\n",
    "ax.tick_params(axis='both', which='both',length=0)\n",
    "ax.fill_between(x, y, color=light_red_color)\n",
    "ax.fill_between(x, y, max(y), color=light_green_color)\n",
    "\n",
    "ax.text(0.65, 0.9, text['bmap'], size=25, color=blue_color)\n",
    "ax.text(0.82, 0.80, text['bmap_sub'], size=8, color=blue_color)\n",
    "\n",
    "prompts_size=15\n",
    "ax.text(0.5, 0.5, text['prompts'], size=prompts_size, color=blue_color)\n",
    "ax.text(0.5, 0.45, text['prompts_succeed'], size=prompts_size*0.5, color=green_color)\n",
    "ax.text(0.08, 0.2, text['prompts'], size=prompts_size, color=blue_color)\n",
    "ax.text(0.08, 0.15, text['prompts_fail'], size=prompts_size*0.5, color=red_color)\n",
    "\n",
    "# set x axis ticks names\n",
    "xticks = [''] * (len(x)-10)\n",
    "xticks[10], xticks[-10] = text['ability_axis']\n",
    "plt.xticks(x, xticks)\n",
    "# set y axis ticks names\n",
    "yticks = [''] * (len(y)-10)\n",
    "yticks[6], yticks[-1] = text['motivation_axis']\n",
    "plt.yticks(y, yticks)\n",
    "\n",
    "# set axis' limits\n",
    "plt.xlim([0.0, 1.0])\n",
    "plt.ylim([0.0, 1.0])\n",
    "\n",
    "tp = np.array((0.28, 0.45))\n",
    "trans_angle = plt.gca().transData.transform_angles(np.array((315,)),\n",
    "                                                   tp.reshape((1, 2)))[0]\n",
    "plt.text(tp[0], tp[1], text['action_line'], fontsize=12,\n",
    "         rotation=trans_angle, rotation_mode='anchor')\n",
    "plt.show()"
   ],
   "metadata": {
    "collapsed": false,
    "pycharm": {
     "name": "#%%\n"
    }
   }
  },
  {
   "cell_type": "markdown",
   "source": [
    "- Image based in the Fogg Behavior Model (as presented in the book), also inspired by\n",
    "[this one](https://getyouclients.co/wp-content/uploads/2019/08/BJ-Fogg-Behavior-Model.jpg) found\n",
    "in Google Images.\n",
    "\n",
    "Looking at the graphic we can see that if there is a prompt for a behavior, but it is something too\n",
    "hard to do or if the motivation is low, the behavior will fail.\n",
    "\n",
    "On the contrary, if the behavior is easy to do and we have the motivation when the prompt surges\n",
    " the behavior will be a success!\n",
    "\n",
    "Thinking in the process of building new habits, we could use this model as a guide on how to\n",
    "develop a new one. After choosing the right behavior, make sure you have the right motivation\n",
    "for it and make it really easy to do it! In other words, you should make it as simple and small\n",
    "so that there is no chance you will not do it.\n",
    "In this way, each time you are successful with your behavior you are taking a step in making\n",
    "it a new habit.\n",
    "\n",
    "A similar conclusion can be thought in the process of stopping a bad habit, make it really hard\n",
    "to do, so that even when the prompt arises you will be less likely to do it.\n",
    "\n",
    "This is the suggested template by B. J. Fogg to create a new behavior:\n",
    "> After I ..., I will ... . Then, I celebrate!\n",
    "\n",
    "The celebration is an important step for you to connect the behavior with something positive that\n",
    " should be repeated.\n",
    "\n",
    "If you think the behavior you tried to create is not working, try this troubleshoot method:\n",
    "1. Check prompt\n",
    "2. Check ability\n",
    "3. Check motivation\n",
    "\n",
    "And keep trying out and learning more about yourself, one small step at a time.\n",
    "\n",
    "## References\n",
    "- Book: [Tiny Habits: The Small Changes That Change Everything (English Edition)](https://www.amazon.com.br/Tiny-Habits-Changes-Everything-English-ebook/dp/B07R6VQBSZ/ref=tmm_kin_title_0?_encoding=UTF8&qid=1583682661&sr=8-1)\n",
    "- Site: [B.J. Fogg](https://www.bjfogg.com/)\n",
    "- Site: [Tiny Habits](https://www.tinyhabits.com/)\n"
   ],
   "metadata": {
    "collapsed": false,
    "pycharm": {
     "name": "#%% md\n"
    }
   }
  }
 ],
 "metadata": {
  "kernelspec": {
   "display_name": "Python 3",
   "env": {},
   "interrupt_mode": "signal",
   "language": "python",
   "metadata": {},
   "name": "python3"
  }
 },
 "nbformat": 4,
 "nbformat_minor": 4
}